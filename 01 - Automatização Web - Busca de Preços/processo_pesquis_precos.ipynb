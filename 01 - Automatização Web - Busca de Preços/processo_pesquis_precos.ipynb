{
 "cells": [
  {
   "cell_type": "code",
   "execution_count": 27,
   "metadata": {},
   "outputs": [
    {
     "data": {
      "text/html": [
       "<div>\n",
       "<style scoped>\n",
       "    .dataframe tbody tr th:only-of-type {\n",
       "        vertical-align: middle;\n",
       "    }\n",
       "\n",
       "    .dataframe tbody tr th {\n",
       "        vertical-align: top;\n",
       "    }\n",
       "\n",
       "    .dataframe thead th {\n",
       "        text-align: right;\n",
       "    }\n",
       "</style>\n",
       "<table border=\"1\" class=\"dataframe\">\n",
       "  <thead>\n",
       "    <tr style=\"text-align: right;\">\n",
       "      <th></th>\n",
       "      <th>Nome</th>\n",
       "      <th>Termos banidos</th>\n",
       "      <th>Preço mínimo</th>\n",
       "      <th>Preço máximo</th>\n",
       "    </tr>\n",
       "  </thead>\n",
       "  <tbody>\n",
       "    <tr>\n",
       "      <th>0</th>\n",
       "      <td>iphone 12 64 gb</td>\n",
       "      <td>mini watch</td>\n",
       "      <td>3000</td>\n",
       "      <td>3500</td>\n",
       "    </tr>\n",
       "    <tr>\n",
       "      <th>1</th>\n",
       "      <td>rtx 3060</td>\n",
       "      <td>zota galax</td>\n",
       "      <td>4000</td>\n",
       "      <td>4500</td>\n",
       "    </tr>\n",
       "  </tbody>\n",
       "</table>\n",
       "</div>"
      ],
      "text/plain": [
       "              Nome Termos banidos  Preço mínimo  Preço máximo\n",
       "0  iphone 12 64 gb     mini watch          3000          3500\n",
       "1         rtx 3060     zota galax          4000          4500"
      ]
     },
     "metadata": {},
     "output_type": "display_data"
    }
   ],
   "source": [
    "# Criar um navegador\n",
    "from selenium import webdriver\n",
    "from selenium.webdriver.common.keys import Keys\n",
    "from selenium.webdriver.common.by import By\n",
    "\n",
    "import pandas as pd\n",
    "\n",
    "#Criar o navegador \n",
    "nav = webdriver.Chrome()\n",
    "\n",
    "# Importar/visualizar a base de dados\n",
    "tabela_produtos = pd.read_excel('buscas.xlsx')\n",
    "display(tabela_produtos)\n",
    "\n"
   ]
  },
  {
   "cell_type": "code",
   "execution_count": 28,
   "metadata": {},
   "outputs": [],
   "source": [
    "#1. Entrar no google\n",
    "nav.get(\"https://www.google.com.br/\")\n",
    "\n",
    "produto = 'iphone 12 64 gb'\n",
    "termos_banidos ='mini watch'\n",
    "\n",
    "produto = produto.lower()\n",
    "termos_banidos = termos_banidos.lower()\n",
    "lista_termos_banidos = termos_banidos.split(\" \")\n",
    "lista_termos_produto = produto.split(\" \")\n",
    "\n",
    "preco_minimo = 4000\n",
    "preco_maximo = 4500\n",
    "\n",
    "#2. Pesquisar o nome do produto no google\n",
    "nav.find_element(By.XPATH, '/html/body/div[1]/div[3]/form/div[1]/div[1]/div[1]/div/div[2]/input').send_keys(produto)\n",
    "nav.find_element(By.XPATH, '/html/body/div[1]/div[3]/form/div[1]/div[1]/div[1]/div/div[2]/input').send_keys(Keys.ENTER)\n",
    "\n",
    "#3. Clicar na aba shopping\n",
    "elementos = nav.find_elements(By.CLASS_NAME, 'hdtb-mitem')\n",
    "for item in elementos:\n",
    "    if 'Shopping' in item.text:\n",
    "        item.click()\n",
    "        break\n",
    "\n",
    "#4. Pegar todos os elementos dos produtos no shopping\n",
    "lista_resultados = nav.find_elements(By.CLASS_NAME, 'sh-dgr__grid-result')\n",
    "\n",
    "\n",
    "# para cada item dentro da nossa base de dados (para cada produto)\n",
    "    #procurar esse produto no google shopping\n",
    "        #verificar se algum dos produtos do google shopping está dentro da minha faixa de preço\n",
    "    #procurar esse produto no buscapé\n",
    "        #verificar se algum dos produtos do buscape está dentro da minha faixa de preço\n",
    "\n",
    "# salvar as ofertas boas em um dataframe (tabela)\n",
    "# exportar pro excel\n",
    "# enviar por e-mail o resultado da tabela."
   ]
  },
  {
   "cell_type": "code",
   "execution_count": 30,
   "metadata": {},
   "outputs": [],
   "source": [
    "lista_ofertas = []\n",
    "for resultado in lista_resultados:\n",
    "\n",
    "    nome = resultado.find_element(By.CLASS_NAME,'Xjkr3b').text\n",
    "    nome = nome.lower()\n",
    "\n",
    "    #Verificação do Nome\n",
    "    \n",
    "    tem_termos_banidos = False\n",
    "    for palavra in lista_termos_banidos:\n",
    "        if palavra in nome:\n",
    "            tem_termos_banidos = True\n",
    "    \n",
    "    tem_todos_termos_produto = True\n",
    "    for palavra in lista_termos_produto:\n",
    "        if palavra not in nome:\n",
    "            tem_todos_termos_produto = False\n",
    "    \n",
    "    \n",
    "    #Se tem_termos_banidos = False e o tem_todos_termos_produto = True, então executa análise \n",
    "    if not tem_termos_banidos and tem_todos_termos_produto: # Verificando o nome\n",
    "        preco = resultado.find_element(By.CLASS_NAME, 'a8Pemb').text\n",
    "        preco = preco.replace('R$', '').replace(' ','').replace('.','').replace(',','.')\n",
    "        preco = float(preco)\n",
    "\n",
    "        #verificando e o preco está dentro do minimo e maximo\n",
    "        preco_maximo = float(preco_maximo)\n",
    "        preco_minimo = float(preco_minimo)\n",
    "        if preco_minimo <= preco <= preco_maximo:\n",
    "             #pegando o elemento que está abaixo do que queremos obter\n",
    "            elemento_link = resultado.find_element(By.CLASS_NAME, 'aULzUe')\n",
    "            #subindo para pegar o elemento que queremos\n",
    "            elementos_pai = elemento_link.find_element(By.XPATH, '..')\n",
    "            #Pegando de fato o link de cada produto\n",
    "            link = elementos_pai.get_attribute('href')\n",
    "            lista_ofertas.append((nome, preco, link))\n",
    "            "
   ]
  },
  {
   "cell_type": "code",
   "execution_count": 31,
   "metadata": {},
   "outputs": [
    {
     "name": "stdout",
     "output_type": "stream",
     "text": [
      "[('apple iphone 12, 64gb - branco', 4499.0, 'https://www.google.com.br/url?url=https://www.fastshop.com.br/web/p/d/AEMGJ63BRABCO_PRD/iphone-12-branco-64gb-mgj63bra-fast/%3Fpartner%3Dparceiro-google%26cm_mmc%3Dcpc_Shopping-_-AEMGJ63BRABCO_PRD&rct=j&q=&esrc=s&sa=U&ved=0ahUKEwiuyIHYhPb2AhWeHrkGHeASB64Q_uQECN4L&usg=AOvVaw3T4vpWiTwU06SqxBllHdab'), ('iphone 12 64gb roxo, com tela de 6,1, 5g e câmera dupla de 12 mp - mjnm3br/a', 4499.0, 'https://www.google.com.br/url?url=https://www.fastshop.com.br/web/p/d/AEMJNM3BRARXO_PRD/iphone-12-roxo-64gb-mjnm3br-fast/%3Fpartner%3Dparceiro-google%26cm_mmc%3Dcpc_Shopping-_-AEMJNM3BRARXO_PRD&rct=j&q=&esrc=s&sa=U&ved=0ahUKEwiuyIHYhPb2AhWeHrkGHeASB64QguUECLAM&usg=AOvVaw3UV9Zr2hAoy8ZQ6KP8oAR2'), ('iphone 12 - 64 gb, branco', 4390.03, 'https://www.google.com.br/url?url=https://wantimport.com/loja/apple/iphone/iphone-12/%3Fattribute_pa_gb%3D64-gb%26attribute_pa_cor%3Dbranco&rct=j&q=&esrc=s&sa=U&ved=0ahUKEwiuyIHYhPb2AhWeHrkGHeASB64QgOUECJ4P&usg=AOvVaw1BTySNsrTgJXe530s9Srxa')]\n"
     ]
    }
   ],
   "source": [
    "print(lista_ofertas)"
   ]
  }
 ],
 "metadata": {
  "interpreter": {
   "hash": "af573f283834de0d94267a2f349eb6a57bfc80fc16df6f4176b3eb1c7a5367fc"
  },
  "kernelspec": {
   "display_name": "Python 3.9.7 ('base')",
   "language": "python",
   "name": "python3"
  },
  "language_info": {
   "codemirror_mode": {
    "name": "ipython",
    "version": 3
   },
   "file_extension": ".py",
   "mimetype": "text/x-python",
   "name": "python",
   "nbconvert_exporter": "python",
   "pygments_lexer": "ipython3",
   "version": "3.9.7"
  },
  "orig_nbformat": 4
 },
 "nbformat": 4,
 "nbformat_minor": 2
}
